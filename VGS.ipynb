{
 "cells": [
  {
   "cell_type": "code",
   "execution_count": 12,
   "metadata": {},
   "outputs": [],
   "source": [
    "from pyspark.sql import SparkSession\n",
    "spark = SparkSession.builder \\\n",
    "    .master(\"local[*]\") \\\n",
    "    .appName(\"Ernesto_Spark\") \\\n",
    "    .getOrCreate()"
   ]
  },
  {
   "cell_type": "code",
   "execution_count": 14,
   "metadata": {},
   "outputs": [],
   "source": [
    "data = spark.read.csv('./Video_Games_Sales.csv',inferSchema=True, header=True)"
   ]
  },
  {
   "cell_type": "code",
   "execution_count": 15,
   "metadata": {},
   "outputs": [
    {
     "data": {
      "text/plain": [
       "(16719, 16)"
      ]
     },
     "execution_count": 15,
     "metadata": {},
     "output_type": "execute_result"
    }
   ],
   "source": [
    "data.count(), len(data.columns)"
   ]
  },
  {
   "cell_type": "code",
   "execution_count": 16,
   "metadata": {},
   "outputs": [
    {
     "name": "stdout",
     "output_type": "stream",
     "text": [
      "+--------------------+--------+---------------+------------+---------+--------+--------+--------+-----------+------------+------------+------------+----------+----------+---------+------+\n",
      "|                Name|Platform|Year_of_Release|       Genre|Publisher|NA_Sales|EU_Sales|JP_Sales|Other_Sales|Global_Sales|Critic_Score|Critic_Count|User_Score|User_Count|Developer|Rating|\n",
      "+--------------------+--------+---------------+------------+---------+--------+--------+--------+-----------+------------+------------+------------+----------+----------+---------+------+\n",
      "|          Wii Sports|     Wii|           2006|      Sports| Nintendo|   41.36|   28.96|    3.77|       8.45|       82.53|          76|          51|         8|       322| Nintendo|     E|\n",
      "|   Super Mario Bros.|     NES|           1985|    Platform| Nintendo|   29.08|    3.58|    6.81|       0.77|       40.24|        null|        null|      null|      null|     null|  null|\n",
      "|      Mario Kart Wii|     Wii|           2008|      Racing| Nintendo|   15.68|   12.76|    3.79|       3.29|       35.52|          82|          73|       8.3|       709| Nintendo|     E|\n",
      "|   Wii Sports Resort|     Wii|           2009|      Sports| Nintendo|   15.61|   10.93|    3.28|       2.95|       32.77|          80|          73|         8|       192| Nintendo|     E|\n",
      "|Pokemon Red/Pokem...|      GB|           1996|Role-Playing| Nintendo|   11.27|    8.89|   10.22|        1.0|       31.37|        null|        null|      null|      null|     null|  null|\n",
      "+--------------------+--------+---------------+------------+---------+--------+--------+--------+-----------+------------+------------+------------+----------+----------+---------+------+\n",
      "only showing top 5 rows\n",
      "\n"
     ]
    }
   ],
   "source": [
    "data.show(5)"
   ]
  },
  {
   "cell_type": "code",
   "execution_count": 17,
   "metadata": {},
   "outputs": [
    {
     "name": "stdout",
     "output_type": "stream",
     "text": [
      "root\n",
      " |-- Name: string (nullable = true)\n",
      " |-- Platform: string (nullable = true)\n",
      " |-- Year_of_Release: string (nullable = true)\n",
      " |-- Genre: string (nullable = true)\n",
      " |-- Publisher: string (nullable = true)\n",
      " |-- NA_Sales: double (nullable = true)\n",
      " |-- EU_Sales: double (nullable = true)\n",
      " |-- JP_Sales: double (nullable = true)\n",
      " |-- Other_Sales: double (nullable = true)\n",
      " |-- Global_Sales: double (nullable = true)\n",
      " |-- Critic_Score: integer (nullable = true)\n",
      " |-- Critic_Count: integer (nullable = true)\n",
      " |-- User_Score: string (nullable = true)\n",
      " |-- User_Count: integer (nullable = true)\n",
      " |-- Developer: string (nullable = true)\n",
      " |-- Rating: string (nullable = true)\n",
      "\n"
     ]
    }
   ],
   "source": [
    "data.printSchema()"
   ]
  },
  {
   "cell_type": "code",
   "execution_count": 18,
   "metadata": {},
   "outputs": [
    {
     "name": "stdout",
     "output_type": "stream",
     "text": [
      "+---------------------------+--------+----------+----------+\n",
      "|Name                       |Platform|User_Score|User_Count|\n",
      "+---------------------------+--------+----------+----------+\n",
      "|Wii Sports                 |Wii     |8         |322       |\n",
      "|Super Mario Bros.          |NES     |null      |null      |\n",
      "|Mario Kart Wii             |Wii     |8.3       |709       |\n",
      "|Wii Sports Resort          |Wii     |8         |192       |\n",
      "|Pokemon Red/Pokemon Blue   |GB      |null      |null      |\n",
      "|Tetris                     |GB      |null      |null      |\n",
      "|New Super Mario Bros.      |DS      |8.5       |431       |\n",
      "|Wii Play                   |Wii     |6.6       |129       |\n",
      "|New Super Mario Bros. Wii  |Wii     |8.4       |594       |\n",
      "|Duck Hunt                  |NES     |null      |null      |\n",
      "|Nintendogs                 |DS      |null      |null      |\n",
      "|Mario Kart DS              |DS      |8.6       |464       |\n",
      "|Pokemon Gold/Pokemon Silver|GB      |null      |null      |\n",
      "|Wii Fit                    |Wii     |7.7       |146       |\n",
      "|Kinect Adventures!         |X360    |6.3       |106       |\n",
      "+---------------------------+--------+----------+----------+\n",
      "only showing top 15 rows\n",
      "\n"
     ]
    }
   ],
   "source": [
    "data.select(\"Name\",\"Platform\",\"User_Score\",\"User_Count\") \\\n",
    ".show(15, truncate=False)"
   ]
  },
  {
   "cell_type": "code",
   "execution_count": 19,
   "metadata": {},
   "outputs": [
    {
     "name": "stdout",
     "output_type": "stream",
     "text": [
      "+-------+------------------+------------------+\n",
      "|summary|        User_Score|        User_Count|\n",
      "+-------+------------------+------------------+\n",
      "|  count|             10015|              7590|\n",
      "|   mean|7.1250461133070315|162.22990777338603|\n",
      "| stddev|1.5000060936257986| 561.2823262473789|\n",
      "|    min|                 0|                 4|\n",
      "|    max|               tbd|             10665|\n",
      "+-------+------------------+------------------+\n",
      "\n"
     ]
    }
   ],
   "source": [
    "data.describe([\"User_Score\",\"User_Count\"]).show()"
   ]
  },
  {
   "cell_type": "code",
   "execution_count": 20,
   "metadata": {},
   "outputs": [
    {
     "name": "stdout",
     "output_type": "stream",
     "text": [
      "+--------+-----+\n",
      "|Platform|count|\n",
      "+--------+-----+\n",
      "|     PS2| 2161|\n",
      "|      DS| 2152|\n",
      "|     PS3| 1331|\n",
      "|     Wii| 1320|\n",
      "|    X360| 1262|\n",
      "|     PSP| 1209|\n",
      "|      PS| 1197|\n",
      "|      PC|  974|\n",
      "|      XB|  824|\n",
      "|     GBA|  822|\n",
      "+--------+-----+\n",
      "only showing top 10 rows\n",
      "\n"
     ]
    }
   ],
   "source": [
    "data.groupBy(\"Platform\") \\\n",
    ".count() \\\n",
    ".orderBy(\"count\", ascending=False) \\\n",
    ".show(10)"
   ]
  },
  {
   "cell_type": "code",
   "execution_count": 21,
   "metadata": {},
   "outputs": [],
   "source": [
    "condition1 = (data.User_Score.isNotNull()) | (data.User_Count.isNotNull())\n",
    "condition2 = data.User_Score != \"tbd\"\n",
    "data = data.filter(condition1).filter(condition2)"
   ]
  },
  {
   "cell_type": "code",
   "execution_count": 22,
   "metadata": {},
   "outputs": [
    {
     "name": "stdout",
     "output_type": "stream",
     "text": [
      "+-------+------------------+------------------+\n",
      "|summary|        User_Score|        User_Count|\n",
      "+-------+------------------+------------------+\n",
      "|  count|              7590|              7590|\n",
      "|   mean|7.1250461133070315|162.22990777338603|\n",
      "| stddev|1.5000060936257986| 561.2823262473789|\n",
      "|    min|                 0|                 4|\n",
      "|    max|               9.7|             10665|\n",
      "+-------+------------------+------------------+\n",
      "\n"
     ]
    }
   ],
   "source": [
    "data.describe([\"User_Score\",\"User_Count\"]).show()"
   ]
  },
  {
   "cell_type": "code",
   "execution_count": null,
   "metadata": {},
   "outputs": [],
   "source": []
  }
 ],
 "metadata": {
  "kernelspec": {
   "display_name": "Python 3",
   "language": "python",
   "name": "python3"
  },
  "language_info": {
   "codemirror_mode": {
    "name": "ipython",
    "version": 3
   },
   "file_extension": ".py",
   "mimetype": "text/x-python",
   "name": "python",
   "nbconvert_exporter": "python",
   "pygments_lexer": "ipython3",
   "version": "3.7.3"
  }
 },
 "nbformat": 4,
 "nbformat_minor": 4
}
